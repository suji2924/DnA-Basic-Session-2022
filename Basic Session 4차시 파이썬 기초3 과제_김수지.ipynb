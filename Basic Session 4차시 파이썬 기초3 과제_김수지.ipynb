{
 "cells": [
  {
   "cell_type": "markdown",
   "id": "89cdcd8e",
   "metadata": {},
   "source": [
    "# Basic Session 4차시 과제"
   ]
  },
  {
   "cell_type": "markdown",
   "id": "ffd14bbd",
   "metadata": {},
   "source": [
    "## 난이도 하 (35점)"
   ]
  },
  {
   "cell_type": "markdown",
   "id": "595a1ac0",
   "metadata": {},
   "source": [
    "**Q1.** 다음 하위 문제를 푸세요. (총 6점)\n",
    "1) `math`라는 모듈의 `exp`를 불러오세요. (1점)"
   ]
  },
  {
   "cell_type": "code",
   "execution_count": 1,
   "id": "695b8045",
   "metadata": {},
   "outputs": [],
   "source": [
    "from math import exp"
   ]
  },
  {
   "cell_type": "markdown",
   "id": "81478bc5",
   "metadata": {},
   "source": [
    "2) -10에서 10까지의 정수 리스트를 만드세요. (2점)"
   ]
  },
  {
   "cell_type": "code",
   "execution_count": 7,
   "id": "7993e0e2",
   "metadata": {},
   "outputs": [
    {
     "data": {
      "text/plain": [
       "[-10, -9, -8, -7, -6, -5, -4, -3, -2, -1, 0, 1, 2, 3, 4, 5, 6, 7, 8, 9, 10]"
      ]
     },
     "execution_count": 7,
     "metadata": {},
     "output_type": "execute_result"
    }
   ],
   "source": [
    "ten = list(range(-10,11))\n",
    "ten"
   ]
  },
  {
   "cell_type": "markdown",
   "id": "46d27e61",
   "metadata": {},
   "source": [
    "3) map과 lambda를 이용하여 $y=\\frac{1}{1+exp(-x)}$인 실수 리스트를 만드세요. (3점)"
   ]
  },
  {
   "cell_type": "code",
   "execution_count": 8,
   "id": "b3f45f8d",
   "metadata": {},
   "outputs": [
    {
     "data": {
      "text/plain": [
       "[4.5397868702434395e-05,\n",
       " 0.00012339457598623172,\n",
       " 0.0003353501304664781,\n",
       " 0.0009110511944006454,\n",
       " 0.0024726231566347743,\n",
       " 0.0066928509242848554,\n",
       " 0.01798620996209156,\n",
       " 0.04742587317756678,\n",
       " 0.11920292202211755,\n",
       " 0.2689414213699951,\n",
       " 0.5,\n",
       " 0.7310585786300049,\n",
       " 0.8807970779778823,\n",
       " 0.9525741268224334,\n",
       " 0.9820137900379085,\n",
       " 0.9933071490757153,\n",
       " 0.9975273768433653,\n",
       " 0.9990889488055994,\n",
       " 0.9996646498695336,\n",
       " 0.9998766054240137,\n",
       " 0.9999546021312976]"
      ]
     },
     "execution_count": 8,
     "metadata": {},
     "output_type": "execute_result"
    }
   ],
   "source": [
    "y = list(map(lambda x : 1/(1+exp(-x)), ten ))\n",
    "y"
   ]
  },
  {
   "cell_type": "markdown",
   "id": "9493399a",
   "metadata": {},
   "source": [
    "**Q2.** 2개의 숫자 x, y를 입력으로 받아 `x*y, x/y`를  튜플 형태로 반환하는 함수를 만드세요. (3점)"
   ]
  },
  {
   "cell_type": "code",
   "execution_count": 3,
   "id": "63c96577",
   "metadata": {},
   "outputs": [
    {
     "name": "stdout",
     "output_type": "stream",
     "text": [
      "x를 입력하세요 : 2\n",
      "y를 입력하세요 : 4\n"
     ]
    },
    {
     "data": {
      "text/plain": [
       "(8, 0.5)"
      ]
     },
     "execution_count": 3,
     "metadata": {},
     "output_type": "execute_result"
    }
   ],
   "source": [
    "def q_2():\n",
    "    x = int(input('x를 입력하세요 : '))\n",
    "    y = int(input('y를 입력하세요 : '))\n",
    "    answer = (x*y, x/y)\n",
    "    return answer\n",
    "\n",
    "q_2()"
   ]
  },
  {
   "cell_type": "markdown",
   "id": "9cbf171c",
   "metadata": {},
   "source": [
    "**Q3.** 파이썬 내장함수 max를 사용하지 않고 다음 리스트의 원소가 들어왔을 때 가장 큰 값을 반환하는 함수를 만드세요. (5점)"
   ]
  },
  {
   "cell_type": "code",
   "execution_count": 4,
   "id": "95f6afc7",
   "metadata": {},
   "outputs": [],
   "source": [
    "lst = [1, 4, 17, 5, 12, 6, 9]"
   ]
  },
  {
   "cell_type": "code",
   "execution_count": 6,
   "id": "a20bc472",
   "metadata": {},
   "outputs": [
    {
     "data": {
      "text/plain": [
       "17"
      ]
     },
     "execution_count": 6,
     "metadata": {},
     "output_type": "execute_result"
    }
   ],
   "source": [
    "def q_3(list):\n",
    "    list = sorted(list)\n",
    "    max = list[-1]\n",
    "    return max\n",
    "\n",
    "q_3(lst)"
   ]
  },
  {
   "cell_type": "markdown",
   "id": "a729e0b5",
   "metadata": {},
   "source": [
    "**Q4.** 가변 매개변수를 사용하여 입력받은 인자가 몇개인지 반환하는 함수를 만들고, x를 임의로 넣어 함수를 실행하세요. (5점)"
   ]
  },
  {
   "cell_type": "code",
   "execution_count": 5,
   "id": "307aeee6",
   "metadata": {},
   "outputs": [
    {
     "data": {
      "text/plain": [
       "4"
      ]
     },
     "execution_count": 5,
     "metadata": {},
     "output_type": "execute_result"
    }
   ],
   "source": [
    "def q_4(*x):\n",
    "    return len(x)\n",
    "\n",
    "q_4(1, 2, 3, [1, 2, 3])"
   ]
  },
  {
   "cell_type": "markdown",
   "id": "8cf815ef",
   "metadata": {},
   "source": [
    "**Q5.** 다음 클래스 코드를 보고 다음 하위 문제를 푸세요. (총 6점)"
   ]
  },
  {
   "cell_type": "code",
   "execution_count": 13,
   "id": "c198512c",
   "metadata": {},
   "outputs": [],
   "source": [
    "class Smartphone:\n",
    "    smartphone_count = 0\n",
    "    def __init__(self, your_brand):\n",
    "        self.brand = your_brand\n",
    "        Smartphone.smartphone_count += 1\n",
    "    def phone_color(self, your_color):\n",
    "        self.color = your_color"
   ]
  },
  {
   "cell_type": "markdown",
   "id": "daf5976c",
   "metadata": {},
   "source": [
    "1) 클래스명을 찾아 쓰세요. (1점)"
   ]
  },
  {
   "cell_type": "code",
   "execution_count": null,
   "id": "ae9ba133",
   "metadata": {},
   "outputs": [],
   "source": [
    "# 답 : Smartphone"
   ]
  },
  {
   "cell_type": "markdown",
   "id": "c5fe70fb",
   "metadata": {},
   "source": [
    "2) 클래스 변수와 인스턴스 변수를 찾아 쓰세요. (1점)"
   ]
  },
  {
   "cell_type": "code",
   "execution_count": null,
   "id": "0bd4309a",
   "metadata": {},
   "outputs": [],
   "source": [
    "# 클래스 변수 : smartphone_count\n",
    "# 인스턴스 변수 : brand, color "
   ]
  },
  {
   "cell_type": "markdown",
   "id": "4153ad6d",
   "metadata": {},
   "source": [
    "3) 메소드를 찾아 쓰세요. (1점)"
   ]
  },
  {
   "cell_type": "code",
   "execution_count": null,
   "id": "df467d71",
   "metadata": {},
   "outputs": [],
   "source": [
    "# 답 : phone_color  // 생성자 메소드 : __init__"
   ]
  },
  {
   "cell_type": "markdown",
   "id": "ea3949f9",
   "metadata": {},
   "source": [
    "4) $a = Smartphone('Samsung')$ 다음과 같이 클래스를 선언하면 코드가 어떻게 돌아가는지 쓰세요. (3점)"
   ]
  },
  {
   "cell_type": "code",
   "execution_count": null,
   "id": "2aad28b5",
   "metadata": {},
   "outputs": [],
   "source": [
    "# 답 : Samsung이라는 brand를 가진 객체 a가 생성되며 클래스 변수인 smartphone_count가 +1이 된다. "
   ]
  },
  {
   "cell_type": "markdown",
   "id": "15ff2163",
   "metadata": {},
   "source": [
    "**Q6.** zip()을 사용하여 ['a','b','c','d']라는 리스트를 {0:'a', 1:'b', 2:'c', 3:'d'}라는 딕셔너리로 바꾸세요. (5점)"
   ]
  },
  {
   "cell_type": "code",
   "execution_count": 20,
   "id": "f91bd75e",
   "metadata": {},
   "outputs": [
    {
     "data": {
      "text/plain": [
       "{0: 'a', 1: 'b', 2: 'c', 3: 'd'}"
      ]
     },
     "execution_count": 20,
     "metadata": {},
     "output_type": "execute_result"
    }
   ],
   "source": [
    "q_6 = ['a', 'b', 'c', 'd']\n",
    "\n",
    "dic_6 = dict(zip([0, 1, 2, 3], q_6))\n",
    "dic_6"
   ]
  },
  {
   "cell_type": "markdown",
   "id": "1ea97341",
   "metadata": {},
   "source": [
    "**Q7.** enumerate()를 사용하여 ['a','b','c','d']라는 리스트를 {20:'a', 21:'b', 22:'c', 23:'d'}라는 딕셔너리로 바꾸세요. (5점)"
   ]
  },
  {
   "cell_type": "code",
   "execution_count": 23,
   "id": "0b56cec7",
   "metadata": {},
   "outputs": [
    {
     "data": {
      "text/plain": [
       "{20: 'a', 21: 'b', 22: 'c', 23: 'd'}"
      ]
     },
     "execution_count": 23,
     "metadata": {},
     "output_type": "execute_result"
    }
   ],
   "source": [
    "q_7 = ['a', 'b', 'c', 'd']\n",
    "\n",
    "dic_7 = dict(enumerate(q_7, 20))\n",
    "dic_7"
   ]
  },
  {
   "cell_type": "markdown",
   "id": "731c1a27",
   "metadata": {},
   "source": [
    "## 난이도 중 (25점)"
   ]
  },
  {
   "cell_type": "markdown",
   "id": "bdae1755",
   "metadata": {},
   "source": [
    "**Q8.** `장바구니` 딕셔너리는 묶음 단위로 구매한 내역을 입력해놓은 것이다. 귤과 양파는 한 묶음당 여러개가 들어있는데 `귤 묶음 수`는 한 묶음당 귤의 갯수이며, `양파 묶음 수`는 한 묶음당 양파의 갯수이다.  \n",
    "`귤과 양파의 묶음 수`와 `장바구니`를 입력으로 받아 과일과 야채의 갯수를 튜플 형식으로 반환하는 함수를 만들고 결과값을 출력하세요. (9점)\n",
    "\n",
    "    장바구니 = {'귤':3, '사과':2, '딸기':8, '오이':1, '양파':6, '당근':4}\n",
    "    귤 묶음 수 = 3\n",
    "    양파 묶음 수 = 2\n",
    "    \n",
    "<font color=blue> hint : 일반 매개변수와 키워드인자의 packing/unpacking </font>"
   ]
  },
  {
   "cell_type": "code",
   "execution_count": 24,
   "id": "b53c34bd",
   "metadata": {},
   "outputs": [
    {
     "name": "stdout",
     "output_type": "stream",
     "text": [
      "귤 묶음 수를 입력하세요 : 3\n",
      "양파 묶음 수를 입력하세요 : 2\n"
     ]
    },
    {
     "data": {
      "text/plain": [
       "(('귤', 9), ('사과', 2), ('딸기', 8), ('오이', 1), ('양파', 12), ('당근', 4))"
      ]
     },
     "execution_count": 24,
     "metadata": {},
     "output_type": "execute_result"
    }
   ],
   "source": [
    "def q_8(dic):\n",
    "    tc = int(input('귤 묶음 수를 입력하세요 : '))\n",
    "    oc = int(input('양파 묶음 수를 입력하세요 : '))\n",
    "    \n",
    "    dic['귤'] = dic['귤']*tc\n",
    "    dic['양파'] = dic['양파']*oc\n",
    "    result = tuple(dic.items())\n",
    "    \n",
    "    return result\n",
    "\n",
    "    \n",
    "b = {'귤':3, '사과':2, '딸기':8, '오이':1, '양파':6, '당근':4}\n",
    "q_8(b)   "
   ]
  },
  {
   "cell_type": "code",
   "execution_count": 27,
   "id": "1d4078d7",
   "metadata": {},
   "outputs": [
    {
     "name": "stdout",
     "output_type": "stream",
     "text": [
      "귤 묶음 수를 입력하세요 : 3\n",
      "양파 묶음 수를 입력하세요 : 2\n",
      "('귤', 9) , ('사과', 2) , ('딸기', 8) , ('오이', 1) , ('양파', 12) , ('당근', 4) , "
     ]
    }
   ],
   "source": [
    "#다른 출력 방법 풀이\n",
    "def q_8(dic):\n",
    "    tc = int(input('귤 묶음 수를 입력하세요 : '))\n",
    "    oc = int(input('양파 묶음 수를 입력하세요 : '))\n",
    "    \n",
    "    dic['귤'] = dic['귤']*tc\n",
    "    dic['양파'] = dic['양파']*oc\n",
    "\n",
    "    for i in dic:\n",
    "        print((i, dic[i]),',', end = ' ')\n",
    "    \n",
    "b = {'귤':3, '사과':2, '딸기':8, '오이':1, '양파':6, '당근':4}\n",
    "q_8(b) "
   ]
  },
  {
   "cell_type": "markdown",
   "id": "18d09f83",
   "metadata": {},
   "source": [
    "**Q9.** 다음 딕셔너리를 사용하여 하위 문제를 푸세요. (총 16점)"
   ]
  },
  {
   "cell_type": "code",
   "execution_count": 66,
   "id": "5d96ceaf",
   "metadata": {},
   "outputs": [],
   "source": [
    "member = [\n",
    "    {'name' : '노진구', 'type' : '인간', 'sex' : '남'},\n",
    "    {'name' : '신이슬', 'type' : '인간', 'sex' : '여'},\n",
    "    {'name' : '도라에몽', 'type' : '고양이', 'sex' : '남'},\n",
    "    {'name' : '도라미', 'type' : '고양이', 'sex' : '여'}\n",
    "]"
   ]
  },
  {
   "cell_type": "markdown",
   "id": "c405e519",
   "metadata": {},
   "source": [
    "1) type이 인간인 경우 name을 성과 이름으로 나누어 튜플로 묶은 후 리스트에 모아 해당 리스트를 반환하는 함수를 정의하고, member를 입력으로 하여 함수의 결과값을 출력하세요. (8점)    \n",
    "\n",
    "    [('노','진구'),('신','이슬')]\n",
    "    \n",
    "<font color=blue> hint : for, if </font>"
   ]
  },
  {
   "cell_type": "code",
   "execution_count": 67,
   "id": "91af4df1",
   "metadata": {},
   "outputs": [
    {
     "data": {
      "text/plain": [
       "[('노', '진구'), ('신', '이슬')]"
      ]
     },
     "execution_count": 67,
     "metadata": {},
     "output_type": "execute_result"
    }
   ],
   "source": [
    "def q_9_1(m):\n",
    "    answer_9_1 = []\n",
    "    for i in m:\n",
    "        if (i['type'] == '인간'):\n",
    "            a = str(i['name'][0])\n",
    "            b = str(i['name'][1:3])\n",
    "            answer_9_1.append((a,b))\n",
    "            \n",
    "    return answer_9_1\n",
    "\n",
    "q_9_1(member)"
   ]
  },
  {
   "cell_type": "markdown",
   "id": "dc18d4a9",
   "metadata": {},
   "source": [
    "2) member의 sex가 \"남\"이면 \"M\", \"여\"이면 \"F\"로 바꾸세요. (8점)\n",
    "\n",
    "    [{'name' : '노진구', 'type' : '인간', 'sex' : 'M'},\n",
    "     {'name' : '신이슬', 'type' : '인간', 'sex' : 'F'},\n",
    "     {'name' : '도라에몽', 'type' : '고양이', 'sex' : 'M'},\n",
    "     {'name' : '도라미', 'type' : '고양이', 'sex' : 'F'}]"
   ]
  },
  {
   "cell_type": "code",
   "execution_count": 68,
   "id": "79306b0c",
   "metadata": {},
   "outputs": [
    {
     "data": {
      "text/plain": [
       "[{'name': '노진구', 'type': '인간', 'sex': 'M'},\n",
       " {'name': '신이슬', 'type': '인간', 'sex': 'F'},\n",
       " {'name': '도라에몽', 'type': '고양이', 'sex': 'M'},\n",
       " {'name': '도라미', 'type': '고양이', 'sex': 'F'}]"
      ]
     },
     "execution_count": 68,
     "metadata": {},
     "output_type": "execute_result"
    }
   ],
   "source": [
    "def q_9_2(m):\n",
    "    answer_9_2 = []\n",
    "    for i in m:\n",
    "        if (i['sex'] == '남'):\n",
    "            i['sex'] = 'M'\n",
    "        else:\n",
    "            i['sex'] = 'F'\n",
    "        answer_9_2.append(i)\n",
    "        \n",
    "    return answer_9_2\n",
    "\n",
    "q_9_2(member)"
   ]
  },
  {
   "cell_type": "markdown",
   "id": "ee6b4153",
   "metadata": {},
   "source": [
    "## 난이도 상 (40점)"
   ]
  },
  {
   "cell_type": "markdown",
   "id": "8a446121",
   "metadata": {},
   "source": [
    "**Q10.** 369게임을 사용자정의함수를 이용해 만들고 40까지 출력하세요.  (10점)  \n",
    "\n",
    "    [1, 2, '짝', 4, 5, '짝', 7, 8, '짝', 10, 11, 12, '짝', 14, 15, '짝', 17, 18, '짝', 20, 21, 22, '짝', 24, 25, '짝', 27, 28, '짝', '짝', '짝', '짝', '짝짝', '짝', '짝', '짝짝', '짝', '짝', '짝짝', 40]"
   ]
  },
  {
   "cell_type": "code",
   "execution_count": 75,
   "id": "d269ad42",
   "metadata": {},
   "outputs": [
    {
     "data": {
      "text/plain": [
       "['1',\n",
       " '2',\n",
       " '짝',\n",
       " '4',\n",
       " '5',\n",
       " '짝',\n",
       " '7',\n",
       " '8',\n",
       " '짝',\n",
       " '10',\n",
       " '11',\n",
       " '12',\n",
       " '짝',\n",
       " '14',\n",
       " '15',\n",
       " '짝',\n",
       " '17',\n",
       " '18',\n",
       " '짝',\n",
       " '20',\n",
       " '21',\n",
       " '22',\n",
       " '짝',\n",
       " '24',\n",
       " '25',\n",
       " '짝',\n",
       " '27',\n",
       " '28',\n",
       " '짝',\n",
       " '짝',\n",
       " '짝',\n",
       " '짝',\n",
       " '짝짝',\n",
       " '짝',\n",
       " '짝',\n",
       " '짝짝',\n",
       " '짝',\n",
       " '짝',\n",
       " '짝짝',\n",
       " '40']"
      ]
     },
     "execution_count": 75,
     "metadata": {},
     "output_type": "execute_result"
    }
   ],
   "source": [
    "def q_10():\n",
    "    game = []\n",
    "    \n",
    "    for i in range(1,41):\n",
    "        n = 0\n",
    "        x = str(i)\n",
    "        \n",
    "        if ('3' in x) or ('6' in x) or ('9' in x):\n",
    "            n += x.count('3')\n",
    "            n += x.count('6')\n",
    "            n += x.count('9')\n",
    "            game.append('짝'*n)\n",
    "        else:\n",
    "            game.append(x)\n",
    "    \n",
    "    return game\n",
    "        \n",
    "q_10()"
   ]
  },
  {
   "cell_type": "markdown",
   "id": "3e6d7a41",
   "metadata": {},
   "source": [
    "**Q11.** 다음은 학생 명단과 학생들의 점수이다. 학생과 점수를 묶어 dict 형식으로 만들고 점수순대로 정렬하고, 본인이 작성한 코드를 해석하세요. (10점)   \n",
    "    \n",
    "    student = ['짱구','맹구','훈이','철수','유리]\n",
    "    score = [72, 85, 67, 90, 88]\n",
    "    \n",
    "    [결과]\n",
    "    {'훈이': 67, '짱구': 72, '맹구': 85, '유리': 88, '철수': 90}\n",
    "    \n",
    "<font color=blue> hint : 딕셔너리 value 기준으로 정렬, 딕셔너리 컴프리핸션 </font>   "
   ]
  },
  {
   "cell_type": "code",
   "execution_count": 87,
   "id": "13602639",
   "metadata": {},
   "outputs": [
    {
     "data": {
      "text/plain": [
       "[('훈이', 67), ('짱구', 72), ('맹구', 85), ('유리', 88), ('철수', 90)]"
      ]
     },
     "execution_count": 87,
     "metadata": {},
     "output_type": "execute_result"
    }
   ],
   "source": [
    "student = ['짱구','맹구','훈이','철수','유리']\n",
    "score = [72, 85, 67, 90, 88]\n",
    "\n",
    "\n",
    "#두 리스트를 dict 형식으로 만들기 \n",
    "dic = {k:v for k, v in zip(student, score)}\n",
    "\n",
    "#점수순대로 정렬 \n",
    "#람다함수 사용: value를 기준으로 정렬하기 위해 정렬기준 key값으로 x[1]을 사용\n",
    "result_11 = sorted(dic.items(), key = lambda x: x[1]) \n",
    "result_11"
   ]
  },
  {
   "cell_type": "markdown",
   "id": "0ab36373",
   "metadata": {},
   "source": [
    "**Q12.** 아래의 조건과 같은 class `Race`을 구현하세요. (총 20점)  \n",
    "\n",
    "    조건 1 : car_type, speed, wheel_count 3개의 클래스 변수를 가지며, car_type은 문자형, speed와 wheel_count 숫자형이다. (2점)   \n",
    "       \n",
    "    조건 2 : 각 클래스 변수의 초기값은 car_type은 cycle, speed는 7, wheel_count는 4이다. (3점)   \n",
    "       \n",
    "    조건 3 : car_type을 변경할 수 있는 change라는 메소드를 갖는다. 자동차 번호를 입력받아 변경할 수 있으며 자동차 번호로 0은 cycle, 1은 small_car, 2는 big_car, 3은 racing_car로 변경할 수 있다. 3을 초과할 경우 경고 메세지를 출력한다. (5점)      \n",
    "       \n",
    "    조건 4 : car의 바퀴 수를 설정할 수 있는 car_wheel이라는 메소드를 갖는다. wheel의 수를 입력받아 설정할 수 있으며 car_type이 cycle인 경우 최대 wheel 수는 4이고, 나머지의 경우 최소 wheel 수는 4, 최대 wheel 수는 10이며, 짝수만 가능하다. 조건에 부합하지 않는 경우 경고 메세지를 출력한다. (5점)      \n",
    "       \n",
    "    조건 5 : speed를 조절할 수 있는 car_speed라는 메소드를 갖는다. speed 값을 입력받아 그 값이 양수이면 현재 speed를 그 수만큼 올려주고, 음수이면 현재 speed에서 그 수만큼 줄여준다. 단, speed가 0 이하일 수 없으며, 0 이하가 될 경우 경고 메세지를 출력한다. (5점)"
   ]
  },
  {
   "cell_type": "code",
   "execution_count": 134,
   "id": "ecd3b726",
   "metadata": {},
   "outputs": [],
   "source": [
    "class Race:\n",
    "    car_type = 'cycle'\n",
    "    speed = 7\n",
    "    wheel_count = 4\n",
    "    def __init__(self):\n",
    "        print(f'car_type : {self.car_type} , speed : {self.speed} , wheel_count : {self.wheel_count} ')\n",
    "    def change(self):\n",
    "        number = int(input('자동차 번호를 입력하세요 : ')) \n",
    "        if number>3:\n",
    "            print('잘못 입력하셨습니다.')\n",
    "        else:\n",
    "            if number == 0:\n",
    "                self.car_type = 'cycle'\n",
    "            elif number == 1:\n",
    "                self.car_type = 'small_car'\n",
    "            elif number == 2:\n",
    "                self.car_type = 'bic_car'\n",
    "            elif number == 3:\n",
    "                self.car_type = 'racing_car'\n",
    "        print(f'car_type : {self.car_type} , speed : {self.speed} , wheel_count : {self.wheel_count} ')\n",
    "\n",
    "    def car_wheel(self):\n",
    "        wheel = int(input('바퀴 수를 입력하세요 : '))\n",
    "        if self.car_type == 'cycle':\n",
    "            if not (0<=wheel<=4):\n",
    "                print('바퀴 수가 조건에 맞지 않습니다.')\n",
    "            else:\n",
    "                self.wheel_count = wheel\n",
    "        else:\n",
    "            if not ((4<=wheel<=10)and(wheel%2==0)):\n",
    "                print('바퀴 수가 조건에 맞지 않습니다.')\n",
    "            else:\n",
    "                self.wheel_count = wheel\n",
    "        \n",
    "        print(f'car_type : {self.car_type} , speed : {self.speed} , wheel_count : {self.wheel_count} ')\n",
    "\n",
    "    def car_speed(self):\n",
    "        s = int(input('속도를 입력하세요 : ')) \n",
    "        self.speed += s\n",
    "        \n",
    "        if self.speed<=0:\n",
    "            print('speed가 0 이하입니다.')\n",
    "            \n",
    "        print(f'car_type : {self.car_type} , speed : {self.speed} , wheel_count : {self.wheel_count} ')"
   ]
  },
  {
   "cell_type": "code",
   "execution_count": 135,
   "id": "7a42a2e8",
   "metadata": {},
   "outputs": [
    {
     "name": "stdout",
     "output_type": "stream",
     "text": [
      "car_type : cycle , speed : 7 , wheel_count : 4 \n"
     ]
    }
   ],
   "source": [
    "a=Race()"
   ]
  },
  {
   "cell_type": "code",
   "execution_count": 136,
   "id": "2c76b921",
   "metadata": {},
   "outputs": [
    {
     "name": "stdout",
     "output_type": "stream",
     "text": [
      "자동차 번호를 입력하세요 : 3\n",
      "car_type : racing_car , speed : 7 , wheel_count : 4 \n"
     ]
    }
   ],
   "source": [
    "a.change()"
   ]
  },
  {
   "cell_type": "code",
   "execution_count": 137,
   "id": "09161f70",
   "metadata": {},
   "outputs": [
    {
     "name": "stdout",
     "output_type": "stream",
     "text": [
      "바퀴 수를 입력하세요 : 7\n",
      "바퀴 수가 조건에 맞지 않습니다.\n",
      "car_type : racing_car , speed : 7 , wheel_count : 4 \n"
     ]
    }
   ],
   "source": [
    "a.car_wheel()"
   ]
  },
  {
   "cell_type": "code",
   "execution_count": 138,
   "id": "85e36c1e",
   "metadata": {},
   "outputs": [
    {
     "name": "stdout",
     "output_type": "stream",
     "text": [
      "바퀴 수를 입력하세요 : 8\n",
      "car_type : racing_car , speed : 7 , wheel_count : 8 \n"
     ]
    }
   ],
   "source": [
    "a.car_wheel()"
   ]
  },
  {
   "cell_type": "code",
   "execution_count": 139,
   "id": "63e54583",
   "metadata": {},
   "outputs": [
    {
     "name": "stdout",
     "output_type": "stream",
     "text": [
      "속도를 입력하세요 : 5\n",
      "car_type : racing_car , speed : 12 , wheel_count : 8 \n"
     ]
    }
   ],
   "source": [
    "a.car_speed()"
   ]
  },
  {
   "cell_type": "code",
   "execution_count": 140,
   "id": "d5bdb735",
   "metadata": {},
   "outputs": [
    {
     "name": "stdout",
     "output_type": "stream",
     "text": [
      "속도를 입력하세요 : -4\n",
      "car_type : racing_car , speed : 8 , wheel_count : 8 \n"
     ]
    }
   ],
   "source": [
    "a.car_speed()"
   ]
  },
  {
   "cell_type": "code",
   "execution_count": 141,
   "id": "dd8c7bc1",
   "metadata": {},
   "outputs": [
    {
     "name": "stdout",
     "output_type": "stream",
     "text": [
      "속도를 입력하세요 : -3\n",
      "car_type : racing_car , speed : 5 , wheel_count : 8 \n"
     ]
    }
   ],
   "source": [
    "a.car_speed()"
   ]
  }
 ],
 "metadata": {
  "kernelspec": {
   "display_name": "Python 3 (ipykernel)",
   "language": "python",
   "name": "python3"
  },
  "language_info": {
   "codemirror_mode": {
    "name": "ipython",
    "version": 3
   },
   "file_extension": ".py",
   "mimetype": "text/x-python",
   "name": "python",
   "nbconvert_exporter": "python",
   "pygments_lexer": "ipython3",
   "version": "3.9.7"
  }
 },
 "nbformat": 4,
 "nbformat_minor": 5
}
